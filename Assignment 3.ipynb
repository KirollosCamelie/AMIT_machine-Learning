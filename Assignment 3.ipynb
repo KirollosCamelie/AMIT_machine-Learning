{
 "cells": [
  {
   "cell_type": "markdown",
   "metadata": {},
   "source": [
    "# Assignment 3"
   ]
  },
  {
   "cell_type": "markdown",
   "metadata": {},
   "source": [
    "### Write a function to count the number 4 in a given list."
   ]
  },
  {
   "cell_type": "code",
   "execution_count": 2,
   "metadata": {
    "collapsed": true
   },
   "outputs": [],
   "source": [
    "def ListCounter4(lst):\n",
    "    count = 0\n",
    "    for i in range(len(lst)):\n",
    "        if(lst[i] == 4):\n",
    "            count+=1\n",
    "    return count\n",
    "# ListCounter4([4,1,2,4,3,4,4,5,6,4,7,8,4,9,10,4])"
   ]
  },
  {
   "cell_type": "markdown",
   "metadata": {},
   "source": [
    "### write a  function to check whether a number is divisible by another number."
   ]
  },
  {
   "cell_type": "code",
   "execution_count": 3,
   "metadata": {
    "collapsed": true
   },
   "outputs": [],
   "source": [
    "def isDivisble(num):\n",
    "    for i in range(2,num):\n",
    "        newNum = num\n",
    "        if(newNum%i == 0):\n",
    "            return \"Divisible\"\n",
    "        else:\n",
    "            return \"Not Divisible\"\n",
    "# isDivisble(4)"
   ]
  },
  {
   "cell_type": "markdown",
   "metadata": {},
   "source": [
    "### write a function to find the maximum and minimum numbers from a sequence of numbers."
   ]
  },
  {
   "cell_type": "code",
   "execution_count": 4,
   "metadata": {
    "collapsed": true
   },
   "outputs": [],
   "source": [
    "def maximumAndMinimumFinder(lst):\n",
    "    Max = 0\n",
    "    length = len(lst)\n",
    "    for i in range(length):\n",
    "        if(lst[i] > Max):\n",
    "            Max = lst[i]\n",
    "    Min = Max\n",
    "    for i in range(length):\n",
    "        if(lst[i] < Min):\n",
    "            Min = lst[i]\n",
    "    return Max, Min\n",
    "# maximumAndMinimumFinder([2,5,8,1,9,4,3,7,6])"
   ]
  },
  {
   "cell_type": "markdown",
   "metadata": {},
   "source": [
    "### Write a Python function that takes two lists and returns True if they have at least one common member."
   ]
  },
  {
   "cell_type": "code",
   "execution_count": 5,
   "metadata": {
    "collapsed": true
   },
   "outputs": [],
   "source": [
    "def CommonMember(lst1,lst2):\n",
    "    len1 = len(lst1)\n",
    "    len2 = len(lst2)\n",
    "    for i in range(len1):\n",
    "        for j in range(len2):\n",
    "            if lst1[i] == lst2[j]:\n",
    "                return True\n",
    "    return False\n",
    "# CommonMember([1,2,3,4,5,6],[6,7,8,9])"
   ]
  },
  {
   "cell_type": "markdown",
   "metadata": {},
   "source": [
    "### Write a Python function to calculate the factorial of a number (a non-negative integer). The function accepts the number from the user"
   ]
  },
  {
   "cell_type": "code",
   "execution_count": 6,
   "metadata": {
    "collapsed": true
   },
   "outputs": [],
   "source": [
    "def Factorial(Num):\n",
    "    if(Num == 0):\n",
    "        return 1\n",
    "    elif(Num < 0):\n",
    "        print(\"Unaccepted\")\n",
    "        return 0,\"Unaccepted\"\n",
    "    else:\n",
    "        return Num * Factorial(Num - 1)\n",
    "\n",
    "# Factorial(5)"
   ]
  },
  {
   "cell_type": "markdown",
   "metadata": {},
   "source": [
    "### Write a Python function to check whether a number is in a given range.\n",
    "\n",
    "### The range is from 3 to 11\n"
   ]
  },
  {
   "cell_type": "code",
   "execution_count": 7,
   "metadata": {
    "collapsed": true
   },
   "outputs": [],
   "source": [
    "def isInRange(Num):\n",
    "    if(Num >= 3 and Num < 11):\n",
    "        return True\n",
    "    return False\n",
    "# isInRange(11)"
   ]
  },
  {
   "cell_type": "markdown",
   "metadata": {},
   "source": [
    "### Write a  program to create the multiplication table (from 1 to 10) of a number."
   ]
  },
  {
   "cell_type": "code",
   "execution_count": 8,
   "metadata": {
    "collapsed": true
   },
   "outputs": [
    {
     "data": {
      "text/plain": [
       "[[1, 2, 3, 4, 5, 6, 7, 8, 9, 10],\n",
       " [2, 4, 6, 8, 10, 12, 14, 16, 18, 20],\n",
       " [3, 6, 9, 12, 15, 18, 21, 24, 27, 30],\n",
       " [4, 8, 12, 16, 20, 24, 28, 32, 36, 40],\n",
       " [5, 10, 15, 20, 25, 30, 35, 40, 45, 50],\n",
       " [6, 12, 18, 24, 30, 36, 42, 48, 54, 60],\n",
       " [7, 14, 21, 28, 35, 42, 49, 56, 63, 70],\n",
       " [8, 16, 24, 32, 40, 48, 56, 64, 72, 80],\n",
       " [9, 18, 27, 36, 45, 54, 63, 72, 81, 90],\n",
       " [10, 20, 30, 40, 50, 60, 70, 80, 90, 100]]"
      ]
     },
     "execution_count": 8,
     "metadata": {},
     "output_type": "execute_result"
    }
   ],
   "source": [
    "def MultiplicationTable():\n",
    "    tbl = []\n",
    "    for i in range(1,11):\n",
    "        row =[i*X for X in range(1,11)]\n",
    "        tbl.append(row)\n",
    "    return tbl\n",
    "MultiplicationTable()"
   ]
  },
  {
   "cell_type": "markdown",
   "metadata": {},
   "source": [
    "#### LESSER OF TWO EVENS: Write a function that returns the lesser of two given numbers *if* both numbers are even, but returns the greater if one or both numbers are odd\n",
    "    lesser_of_two_evens(2,4) --> 2\n",
    "    lesser_of_two_evens(2,5) --> 5"
   ]
  },
  {
   "cell_type": "code",
   "execution_count": 9,
   "metadata": {},
   "outputs": [],
   "source": [
    "def lesser_of_two_evens(Num1, Num2):\n",
    "    if(Num1 % 2 == 0 and Num2 %2 == 0):\n",
    "        if(Num1 < Num2):\n",
    "            return Num1\n",
    "        else:\n",
    "            return Num2\n",
    "    elif(Num1%2 != 0 or Num2%2 != 0):\n",
    "        if(Num1 > Num2):\n",
    "            return Num1\n",
    "        else:\n",
    "            return Num2\n",
    "# lesser_of_two_evens(2,1)"
   ]
  },
  {
   "cell_type": "markdown",
   "metadata": {},
   "source": [
    "#### ANIMAL CRACKERS: Write a function takes a two-word string and returns True if both words begin with same letter\n",
    "    animal_crackers('Levelheaded Llama') --> True\n",
    "    animal_crackers('Crazy Kangaroo') --> False"
   ]
  },
  {
   "cell_type": "code",
   "execution_count": 10,
   "metadata": {},
   "outputs": [],
   "source": [
    "def animal_crackers(str):\n",
    "    lstStr = str.split()\n",
    "    if(lstStr[0][0] == lstStr[1][0]):\n",
    "        return True \n",
    "    else:\n",
    "        return False\n",
    "# animal_crackers('Crazy Kangaroo')"
   ]
  },
  {
   "cell_type": "markdown",
   "metadata": {},
   "source": [
    "#### MAKES TWENTY: Given two integers, return True if the sum of the integers is 20 *or* if one of the integers is 20. If not, return False\n",
    "\n",
    "    makes_twenty(20,10) --> True\n",
    "    makes_twenty(12,8) --> True\n",
    "    makes_twenty(2,3) --> False"
   ]
  },
  {
   "cell_type": "code",
   "execution_count": 11,
   "metadata": {},
   "outputs": [],
   "source": [
    "def makes_twenty(Num1,Num2):\n",
    "    if(Num1 == 20 or Num2 == 20 or Num1+Num2 == 20):\n",
    "        return True\n",
    "    else:\n",
    "        return False\n",
    "# makes_twenty(2,3)"
   ]
  },
  {
   "cell_type": "markdown",
   "metadata": {},
   "source": [
    "#### ALMOST THERE: Given an integer n, return True if n is within 10 of either 100 or 200\n",
    "\n",
    "    almost_there(90) --> True\n",
    "    almost_there(104) --> True\n",
    "    almost_there(150) --> False\n",
    "    almost_there(209) --> True\n",
    "    \n",
    "NOTE: `abs(num)` returns the absolute value of a number"
   ]
  },
  {
   "cell_type": "code",
   "execution_count": 12,
   "metadata": {},
   "outputs": [],
   "source": [
    "def almost_there(Num):\n",
    "    if(Num >= 90 and Num <= 110)or(Num >= 190 and Num <= 210):\n",
    "        return True\n",
    "    else:\n",
    "        return False"
   ]
  },
  {
   "cell_type": "markdown",
   "metadata": {},
   "source": [
    "#### BLACKJACK: Given three integers between 1 and 11, if their sum is less than or equal to 21, return their sum. If their sum exceeds 21 *and* there's an eleven, reduce the total sum by 10. Finally, if the sum  exceeds 21, return 'BUST'\n",
    "    blackjack(5,6,7) --> 18\n",
    "    blackjack(9,9,9) --> 'BUST'\n",
    "    blackjack(9,9,11) --> 19"
   ]
  },
  {
   "cell_type": "code",
   "execution_count": 13,
   "metadata": {},
   "outputs": [
    {
     "data": {
      "text/plain": [
       "19"
      ]
     },
     "execution_count": 13,
     "metadata": {},
     "output_type": "execute_result"
    }
   ],
   "source": [
    "def blackjack(Num1, Num2, Num3):\n",
    "    Sum = []\n",
    "    result = 0\n",
    "    Sum.append(Num1)\n",
    "    Sum.append(Num2)\n",
    "    Sum.append(Num3)\n",
    "    for i in range(3):\n",
    "        if(Sum[i] == 11):\n",
    "            result += Sum[i]\n",
    "            result -= 10\n",
    "        else:\n",
    "            result += Sum[i]\n",
    "    if(result > 21):\n",
    "        return 'Bust'\n",
    "    else:\n",
    "        return result\n",
    "    \n",
    "blackjack(9,9,11)\n",
    "#     result = 0\n",
    "#     if(Num1 == 11):\n",
    "#         Num1 = -10\n",
    "#         result\n",
    "#     if(Num2 == 11):\n",
    "#         Num2 = -10\n",
    "#     if(Num3 == 11):\n",
    "#         Num3 = -10\n",
    "# #     result = sum(Num1,Num2,Num3)\n",
    "#     if(result > 21):\n",
    "#         return 'Bust'\n",
    "#     else"
   ]
  }
 ],
 "metadata": {
  "kernelspec": {
   "display_name": "Python 3.10.6 64-bit",
   "language": "python",
   "name": "python3"
  },
  "language_info": {
   "codemirror_mode": {
    "name": "ipython",
    "version": 3
   },
   "file_extension": ".py",
   "mimetype": "text/x-python",
   "name": "python",
   "nbconvert_exporter": "python",
   "pygments_lexer": "ipython3",
   "version": "3.10.6"
  },
  "vscode": {
   "interpreter": {
    "hash": "bbd2a033aba475fad999752b9fad4acbae69c7921714380c1b7c126f944364b6"
   }
  }
 },
 "nbformat": 4,
 "nbformat_minor": 2
}
